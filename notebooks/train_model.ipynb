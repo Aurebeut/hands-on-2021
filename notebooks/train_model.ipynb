{
 "cells": [
  {
   "cell_type": "markdown",
   "metadata": {},
   "source": [
    "Work realised by Aurélien DEVILLARD and Alice MONFRONT, AMSE Students, in April 2021."
   ]
  },
  {
   "cell_type": "markdown",
   "metadata": {
    "id": "8n06cUxPyeus"
   },
   "source": [
    "# Importation of modules"
   ]
  },
  {
   "cell_type": "code",
   "execution_count": 142,
   "metadata": {
    "id": "F9qVzWbS_MTU"
   },
   "outputs": [],
   "source": [
    "import glob\n",
    "import os\n",
    "import pathlib\n",
    "import datetime\n",
    "import pickle\n",
    "import yaml\n",
    "\n",
    "import matplotlib.pyplot as plt\n",
    "import numpy as np\n",
    "import pandas as pd\n",
    "import tensorflow as tf\n",
    "\n",
    "\n",
    "from PIL import Image\n",
    "from sklearn.model_selection import train_test_split\n",
    "from keras.utils import to_categorical\n",
    "from keras.models import Sequential, load_model\n",
    "from keras.layers import Conv2D, MaxPool2D, Dense, Flatten, Dropout\n",
    "from sklearn import svm"
   ]
  },
  {
   "cell_type": "markdown",
   "metadata": {},
   "source": [
    "## open Yaml file"
   ]
  },
  {
   "cell_type": "code",
   "execution_count": 143,
   "metadata": {},
   "outputs": [],
   "source": [
    "with open('parameters.yaml') as yaml_data:\n",
    "    params = yaml.safe_load(yaml_data)\n",
    "\n",
    "\n",
    "TRAINING_CSV_PATH = params[0]['TRAINING_CSV_PATH']\n",
    "SAVE_MODELS_PATH = params[1]['SAVE_MODELS_PATH']\n",
    "IMAGE_WIDTH = params[2]['IMAGE_WIDTH']\n",
    "IMAGE_HEIGHT = params[3]['IMAGE_HEIGHT']"
   ]
  },
  {
   "cell_type": "markdown",
   "metadata": {
    "id": "OZqAbs5Z_MTL"
   },
   "source": [
    "# Reading image files"
   ]
  },
  {
   "cell_type": "code",
   "execution_count": 2,
   "metadata": {
    "colab": {
     "base_uri": "https://localhost:8080/"
    },
    "id": "1eZPq54g_nBd",
    "outputId": "5f09f076-ad19-49ad-91f9-8fd24eab7618"
   },
   "outputs": [
    {
     "name": "stderr",
     "output_type": "stream",
     "text": [
      "  % Total    % Received % Xferd  Average Speed   Time    Time     Time  Current\n",
      "                                 Dload  Upload   Total   Spent    Left  Speed\n",
      "\n",
      "  0     0    0     0    0     0      0      0 --:--:-- --:--:-- --:--:--     0\n",
      "  0  263M    0  240k    0     0   415k      0  0:10:49 --:--:--  0:10:49  415k\n",
      "  1  263M    1 4256k    0     0  2700k      0  0:01:39  0:00:01  0:01:38 2700k\n",
      "  3  263M    3 8160k    0     0  3164k      0  0:01:25  0:00:02  0:01:23 3164k\n",
      "  4  263M    4 11.7M    0     0  3351k      0  0:01:20  0:00:03  0:01:17 3351k\n",
      "  5  263M    5 14.1M    0     0  3174k      0  0:01:25  0:00:04  0:01:21 3174k\n",
      "  6  263M    6 17.2M    0     0  3170k      0  0:01:25  0:00:05  0:01:20 3488k\n",
      "  7  263M    7 20.7M    0     0  3237k      0  0:01:23  0:00:06  0:01:17 3407k\n",
      "  8  263M    8 21.3M    0     0  2783k      0  0:01:36  0:00:07  0:01:29 2597k\n",
      "  8  263M    8 23.4M    0     0  2782k      0  0:01:36  0:00:08  0:01:28 2377k\n",
      " 10  263M   10 27.8M    0     0  2974k      0  0:01:30  0:00:09  0:01:21 2793k\n",
      " 11  263M   11 30.9M    0     0  2999k      0  0:01:29  0:00:10  0:01:19 2809k\n",
      " 13  263M   13 34.4M    0     0  3043k      0  0:01:28  0:00:11  0:01:17 2788k\n",
      " 14  263M   14 39.3M    0     0  3204k      0  0:01:24  0:00:12  0:01:12 3905k\n",
      " 16  263M   16 43.7M    0     0  3299k      0  0:01:21  0:00:13  0:01:08 4198k\n",
      " 18  263M   18 48.0M    0     0  3375k      0  0:01:19  0:00:14  0:01:05 4145k\n",
      " 19  263M   19 52.2M    0     0  3433k      0  0:01:18  0:00:15  0:01:03 4351k\n",
      " 21  263M   21 56.3M    0     0  3478k      0  0:01:17  0:00:16  0:01:01 4487k\n",
      " 23  263M   23 60.7M    0     0  3538k      0  0:01:16  0:00:17  0:00:59 4379k\n",
      " 24  263M   24 64.9M    0     0  3580k      0  0:01:15  0:00:18  0:00:57 4342k\n",
      " 26  263M   26 68.7M    0     0  3598k      0  0:01:14  0:00:19  0:00:55 4249k\n",
      " 27  263M   27 72.6M    0     0  3611k      0  0:01:14  0:00:20  0:00:54 4163k\n",
      " 28  263M   28 75.4M    0     0  3581k      0  0:01:15  0:00:21  0:00:54 3922k\n",
      " 29  263M   29 78.2M    0     0  3550k      0  0:01:15  0:00:22  0:00:53 3590k\n",
      " 30  263M   30 81.6M    0     0  3544k      0  0:01:16  0:00:23  0:00:53 3411k\n",
      " 32  263M   32 85.0M    0     0  3545k      0  0:01:16  0:00:24  0:00:52 3337k\n",
      " 33  263M   33 88.0M    0     0  3526k      0  0:01:16  0:00:25  0:00:51 3178k\n",
      " 34  263M   34 91.3M    0     0  3517k      0  0:01:16  0:00:26  0:00:50 3241k\n",
      " 35  263M   35 93.6M    0     0  3475k      0  0:01:17  0:00:27  0:00:50 3140k\n",
      " 36  263M   36 95.7M    0     0  3431k      0  0:01:18  0:00:28  0:00:50 2896k\n",
      " 37  263M   37 98.8M    0     0  3422k      0  0:01:18  0:00:29  0:00:49 2821k\n",
      " 39  263M   39  103M    0     0  3480k      0  0:01:17  0:00:30  0:00:47 3241k\n",
      " 41  263M   41  108M    0     0  3531k      0  0:01:16  0:00:31  0:00:45 3606k\n",
      " 43  263M   43  113M    0     0  3572k      0  0:01:15  0:00:32  0:00:43 4103k\n",
      " 45  263M   45  118M    0     0  3626k      0  0:01:14  0:00:33  0:00:41 4745k\n",
      " 46  263M   46  123M    0     0  3645k      0  0:01:14  0:00:34  0:00:40 4962k\n",
      " 48  263M   48  126M    0     0  3645k      0  0:01:14  0:00:35  0:00:39 4655k\n",
      " 49  263M   49  129M    0     0  3637k      0  0:01:14  0:00:36  0:00:38 4305k\n",
      " 50  263M   50  133M    0     0  3644k      0  0:01:14  0:00:37  0:00:37 4118k\n",
      " 52  263M   52  137M    0     0  3640k      0  0:01:14  0:00:38  0:00:36 3729k\n",
      " 53  263M   53  140M    0     0  3633k      0  0:01:14  0:00:39  0:00:35 3546k\n",
      " 54  263M   54  142M    0     0  3598k      0  0:01:14  0:00:40  0:00:34 3264k\n",
      " 54  263M   54  144M    0     0  3563k      0  0:01:15  0:00:41  0:00:34 3019k\n",
      " 55  263M   55  146M    0     0  3530k      0  0:01:16  0:00:42  0:00:34 2672k\n",
      " 56  263M   56  149M    0     0  3500k      0  0:01:17  0:00:43  0:00:34 2424k\n",
      " 57  263M   57  150M    0     0  3465k      0  0:01:17  0:00:44  0:00:33 2144k\n",
      " 58  263M   58  152M    0     0  3435k      0  0:01:18  0:00:45  0:00:33 2115k\n",
      " 58  263M   58  155M    0     0  3411k      0  0:01:19  0:00:46  0:00:33 2147k\n",
      " 59  263M   59  157M    0     0  3382k      0  0:01:19  0:00:47  0:00:32 2124k\n",
      " 60  263M   60  158M    0     0  3350k      0  0:01:20  0:00:48  0:00:32 2038k\n",
      " 61  263M   61  160M    0     0  3322k      0  0:01:21  0:00:49  0:00:32 2044k\n",
      " 61  263M   61  162M    0     0  3293k      0  0:01:21  0:00:50  0:00:31 1993k\n",
      " 62  263M   62  164M    0     0  3266k      0  0:01:22  0:00:51  0:00:31 1916k\n",
      " 63  263M   63  166M    0     0  3234k      0  0:01:23  0:00:52  0:00:31 1823k\n",
      " 63  263M   63  167M    0     0  3209k      0  0:01:24  0:00:53  0:00:31 1837k\n",
      " 64  263M   64  169M    0     0  3184k      0  0:01:24  0:00:54  0:00:30 1810k\n",
      " 65  263M   65  171M    0     0  3160k      0  0:01:25  0:00:55  0:00:30 1814k\n",
      " 65  263M   65  173M    0     0  3132k      0  0:01:26  0:00:56  0:00:30 1753k\n",
      " 66  263M   66  174M    0     0  3109k      0  0:01:26  0:00:57  0:00:29 1795k\n",
      " 66  263M   66  176M    0     0  3083k      0  0:01:27  0:00:58  0:00:29 1735k\n",
      " 67  263M   67  178M    0     0  3064k      0  0:01:28  0:00:59  0:00:29 1750k\n",
      " 68  263M   68  179M    0     0  3040k      0  0:01:28  0:01:00  0:00:28 1705k\n",
      " 69  263M   69  181M    0     0  3025k      0  0:01:29  0:01:01  0:00:28 1808k\n",
      " 69  263M   69  183M    0     0  3004k      0  0:01:29  0:01:02  0:00:27 1795k\n",
      " 70  263M   70  186M    0     0  2997k      0  0:01:30  0:01:03  0:00:27 1988k\n",
      " 71  263M   71  188M    0     0  2983k      0  0:01:30  0:01:04  0:00:26 2022k\n",
      " 72  263M   72  191M    0     0  2987k      0  0:01:30  0:01:05  0:00:25 2348k\n",
      " 73  263M   73  193M    0     0  2980k      0  0:01:30  0:01:06  0:00:24 2431k\n",
      " 74  263M   74  196M    0     0  2983k      0  0:01:30  0:01:07  0:00:23 2713k\n",
      " 75  263M   75  199M    0     0  2985k      0  0:01:30  0:01:08  0:00:22 2835k\n",
      " 77  263M   77  203M    0     0  2994k      0  0:01:30  0:01:09  0:00:21 3142k\n",
      " 78  263M   78  206M    0     0  2997k      0  0:01:30  0:01:10  0:00:20 3129k\n",
      " 79  263M   79  209M    0     0  3001k      0  0:01:29  0:01:11  0:00:18 3284k\n",
      " 80  263M   80  212M    0     0  2996k      0  0:01:30  0:01:12  0:00:18 3178k\n",
      " 81  263M   81  215M    0     0  2999k      0  0:01:29  0:01:13  0:00:16 3184k\n",
      " 82  263M   82  218M    0     0  2999k      0  0:01:29  0:01:14  0:00:15 3069k\n",
      " 84  263M   84  221M    0     0  3002k      0  0:01:29  0:01:15  0:00:14 3071k\n",
      " 85  263M   85  224M    0     0  2995k      0  0:01:30  0:01:16  0:00:14 2915k\n",
      " 86  263M   86  227M    0     0  3000k      0  0:01:29  0:01:17  0:00:12 3059k\n",
      " 87  263M   87  230M    0     0  3009k      0  0:01:29  0:01:18  0:00:11 3168k\n",
      " 89  263M   89  234M    0     0  3019k      0  0:01:29  0:01:19  0:00:10 3313k\n",
      " 90  263M   90  237M    0     0  3021k      0  0:01:29  0:01:20  0:00:09 3313k\n",
      " 91  263M   91  241M    0     0  3024k      0  0:01:29  0:01:21  0:00:08 3466k\n",
      " 92  263M   92  244M    0     0  3036k      0  0:01:28  0:01:22  0:00:06 3584k\n",
      " 94  263M   94  248M    0     0  3040k      0  0:01:28  0:01:23  0:00:05 3513k\n",
      " 95  263M   95  250M    0     0  3032k      0  0:01:28  0:01:24  0:00:04 3244k\n",
      " 95  263M   95  252M    0     0  3023k      0  0:01:29  0:01:25  0:00:04 3051k\n",
      " 96  263M   96  254M    0     0  3004k      0  0:01:29  0:01:26  0:00:03 2678k\n",
      " 96  263M   96  255M    0     0  2985k      0  0:01:30  0:01:27  0:00:03 2144k\n",
      " 97  263M   97  257M    0     0  2978k      0  0:01:30  0:01:28  0:00:02 1957k\n",
      " 98  263M   98  259M    0     0  2966k      0  0:01:30  0:01:29  0:00:01 1851k\n",
      " 99  263M   99  262M    0     0  2963k      0  0:01:31  0:01:30  0:00:01 1937k\n",
      "100  263M  100  263M    0     0  2960k      0  0:01:31  0:01:31 --:--:-- 2119k\n"
     ]
    }
   ],
   "source": [
    "!curl -O https://sid.erda.dk/public/archives/daaeac0d7ce1152aea9b61d9f1e19370/GTSRB_Final_Training_Images.zip"
   ]
  },
  {
   "cell_type": "code",
   "execution_count": null,
   "metadata": {},
   "outputs": [],
   "source": []
  },
  {
   "cell_type": "code",
   "execution_count": 3,
   "metadata": {
    "colab": {
     "base_uri": "https://localhost:8080/"
    },
    "id": "pCEDCKl8AKqV",
    "outputId": "55d8b092-dbfc-42f7-cf5f-3d9b098a2b5e"
   },
   "outputs": [
    {
     "name": "stderr",
     "output_type": "stream",
     "text": [
      "  % Total    % Received % Xferd  Average Speed   Time    Time     Time  Current\n",
      "                                 Dload  Upload   Total   Spent    Left  Speed\n",
      "\n",
      "  0     0    0     0    0     0      0      0 --:--:-- --:--:-- --:--:--     0\n",
      "  0 84.8M    0     0    0     0      0      0 --:--:-- --:--:-- --:--:--     0\n",
      "  0 84.8M    0  848k    0     0   670k      0  0:02:09  0:00:01  0:02:08  670k\n",
      "  2 84.8M    2 2592k    0     0  1128k      0  0:01:16  0:00:02  0:01:14 1128k\n",
      "  5 84.8M    5 5056k    0     0  1548k      0  0:00:56  0:00:03  0:00:53 1548k\n",
      " 10 84.8M   10 9200k    0     0  2157k      0  0:00:40  0:00:04  0:00:36 2157k\n",
      " 13 84.8M   13 11.2M    0     0  2164k      0  0:00:40  0:00:05  0:00:35 2295k\n",
      " 15 84.8M   15 13.3M    0     0  2185k      0  0:00:39  0:00:06  0:00:33 2569k\n",
      " 19 84.8M   19 16.2M    0     0  2288k      0  0:00:37  0:00:07  0:00:30 2823k\n",
      " 20 84.8M   20 17.6M    0     0  2187k      0  0:00:39  0:00:08  0:00:31 2604k\n",
      " 24 84.8M   24 20.7M    0     0  2291k      0  0:00:37  0:00:09  0:00:28 2406k\n",
      " 29 84.8M   29 25.1M    0     0  2512k      0  0:00:34  0:00:10  0:00:24 2885k\n",
      " 34 84.8M   34 29.0M    0     0  2619k      0  0:00:33  0:00:11  0:00:22 3154k\n",
      " 37 84.8M   37 31.9M    0     0  2668k      0  0:00:32  0:00:12  0:00:20 3221k\n",
      " 42 84.8M   42 36.2M    0     0  2796k      0  0:00:31  0:00:13  0:00:18 3804k\n",
      " 47 84.8M   47 40.6M    0     0  2916k      0  0:00:29  0:00:14  0:00:15 4072k\n",
      " 53 84.8M   53 45.0M    0     0  3024k      0  0:00:28  0:00:15  0:00:13 4076k\n",
      " 58 84.8M   58 49.4M    0     0  3110k      0  0:00:27  0:00:16  0:00:11 4244k\n",
      " 63 84.8M   63 53.7M    0     0  3187k      0  0:00:27  0:00:17  0:00:10 4460k\n",
      " 68 84.8M   68 58.3M    0     0  3270k      0  0:00:26  0:00:18  0:00:08 4524k\n",
      " 74 84.8M   74 62.8M    0     0  3342k      0  0:00:25  0:00:19  0:00:06 4558k\n",
      " 79 84.8M   79 67.7M    0     0  3421k      0  0:00:25  0:00:20  0:00:05 4632k\n",
      " 83 84.8M   83 71.2M    0     0  3430k      0  0:00:25  0:00:21  0:00:04 4470k\n",
      " 88 84.8M   88 75.3M    0     0  3465k      0  0:00:25  0:00:22  0:00:03 4424k\n",
      " 93 84.8M   93 79.1M    0     0  3484k      0  0:00:24  0:00:23  0:00:01 4266k\n",
      " 97 84.8M   97 82.6M    0     0  3487k      0  0:00:24  0:00:24 --:--:-- 4049k\n",
      "100 84.8M  100 84.8M    0     0  3495k      0  0:00:24  0:00:24 --:--:-- 3819k\n",
      "  % Total    % Received % Xferd  Average Speed   Time    Time     Time  Current\n",
      "                                 Dload  Upload   Total   Spent    Left  Speed\n",
      "\n",
      "  0     0    0     0    0     0      0      0 --:--:-- --:--:-- --:--:--     0\n",
      "  0 99620    0     0    0     0      0      0 --:--:-- --:--:-- --:--:--     0\n",
      "100 99620  100 99620    0     0   233k      0 --:--:-- --:--:-- --:--:--  234k\n"
     ]
    }
   ],
   "source": [
    "!curl -O https://sid.erda.dk/public/archives/daaeac0d7ce1152aea9b61d9f1e19370/GTSRB_Final_Test_Images.zip\n",
    "!curl -O https://sid.erda.dk/public/archives/daaeac0d7ce1152aea9b61d9f1e19370/GTSRB_Final_Test_GT.zip"
   ]
  },
  {
   "cell_type": "code",
   "execution_count": 4,
   "metadata": {
    "id": "wFnw1qQQAbca"
   },
   "outputs": [],
   "source": [
    "#!unzip -q GTSRB_Final_Training_Images.zip"
   ]
  },
  {
   "cell_type": "code",
   "execution_count": 6,
   "metadata": {
    "colab": {
     "base_uri": "https://localhost:8080/",
     "height": 35
    },
    "id": "wHAk0HA__MTY",
    "outputId": "a6c6e5eb-e65c-4496-8e44-27bee0258ae8"
   },
   "outputs": [
    {
     "data": {
      "text/plain": [
       "'D:/Documents/Cours/AMSE/M2_S2/hands-on-2021/data/raw/GTSRB_Final_Training_Images/GTSRB/Final_Training/Images/*'"
      ]
     },
     "execution_count": 6,
     "metadata": {},
     "output_type": "execute_result"
    }
   ],
   "source": [
    "os.path.dirname(TRAINING_CSV_PATH)"
   ]
  },
  {
   "cell_type": "markdown",
   "metadata": {
    "id": "h4iW42eS0Q-3"
   },
   "source": [
    "## Functions creation"
   ]
  },
  {
   "cell_type": "code",
   "execution_count": 81,
   "metadata": {
    "id": "5royIcv_0LO0"
   },
   "outputs": [],
   "source": [
    "def build_images_database(path):\n",
    "    \"\"\"Build a pandas DataFrame with all images information.\n",
    "    \n",
    "    Parameters\n",
    "    ----------\n",
    "    path: path pattern to read csv files containing images information\n",
    "    \n",
    "    Returns\n",
    "    -------\n",
    "    A pandas DataFrame with one line per image\n",
    "    \"\"\"\n",
    "    df_list = []\n",
    "    for filename in glob.glob(path):\n",
    "        df = pd.read_csv(filename, sep=';')\n",
    "        df['path'] = os.path.dirname(filename) + '/' + df['Filename']\n",
    "        df_list.append(df)\n",
    "    \n",
    "    return pd.concat(df_list, ignore_index=True)\n",
    "\n",
    "\n",
    "def build_images_list(filename_list, boxes_list=None):\n",
    "    \"\"\"Build a list of images as Numpy array\n",
    "    \n",
    "    Parameters\n",
    "    ----------\n",
    "    filename_list: list of images filenames\n",
    "    boxes_list: optional list of boxes for clipping within images. Boxes are 4-tuples (x1, y1, x2, y2).\n",
    "    \n",
    "    Returns\n",
    "    -------\n",
    "    A list of images as Numpy arrays\n",
    "    \n",
    "    \"\"\"\n",
    "    \n",
    "    # If no boxes_list is given, generate a fake boxes list with None boxes\n",
    "    # image.resize will take full size images if argument box == None\n",
    "    if boxes_list is None:\n",
    "        boxes_list = [None] * len(filename_list)\n",
    "        \n",
    "    assert len(filename_list) == len(boxes_list), \"filenames and boxes lists must have the same length\"\n",
    "    \n",
    "    images_list = []\n",
    "    for (filename, image_box) in zip(filename_list, boxes_list):\n",
    "        image = Image.open(filename)\n",
    "        image = image.resize((IMAGE_WIDTH, IMAGE_HEIGHT), box=image_box) # box argument clips image to (x1, y1, x2, y2)\n",
    "        image = np.array(image)\n",
    "        images_list.append(image)\n",
    "        \n",
    "    return images_list\n",
    "\n",
    "\n",
    "def build_classes_array(df, col_name='ClassId'):\n",
    "    \"\"\"Build a vector (numpy array) of classes\n",
    "    \n",
    "    Parameters\n",
    "    ----------\n",
    "    df: pandas DataFrame with a column containing classes id\n",
    "    \n",
    "    Returns\n",
    "    -------\n",
    "    Numpy array with image classes\n",
    "    \n",
    "    \"\"\"\n",
    "    return df[col_name].values\n",
    "\n",
    "def save_classifier(model, basename):\n",
    "  \"\"\"Save to H5 format a TF model with a timestamp, for NN model\n",
    "\n",
    "  Paramaters\n",
    "  ----------\n",
    "  model: trained tf model\n",
    "  basename: basename including path to use for filename\n",
    "\n",
    "  Returns\n",
    "  -------\n",
    "  Saved model in .h5 format\n",
    "  \"\"\"\n",
    "  model.save(SAVE_MODELS_PATH +'{}_{}.h5'.format(basename, datetime.datetime.now().strftime('%Y-%m-%d_%H-%M-%S')))\n",
    "  return\n",
    "\n",
    "def save_classifier_SVM(model, basename):\n",
    "  \"\"\" Save to pickle format a TF model with a timestamp, for SVM models\n",
    "\n",
    "  Parameters\n",
    "  ----------\n",
    "  model: trained SVM model\n",
    "  basename: basename including path to use for filename\n",
    "\n",
    "  Returns\n",
    "  -------\n",
    "  Saves a trained SVM model in pickle format\n",
    "  \"\"\"\n",
    "  with open(SAVE_MODELS_PATH + '{}_{}.pickle'.format(basename, datetime.datetime.now().strftime('%Y-%m-%d_%H-%M-%S')), 'wb') as f:\n",
    "    pickle.dump(model, f)\n",
    "  return\n",
    "\n",
    "\n",
    "def load_model_SVM(model_name, basename):\n",
    "    \"\"\" Save to H5 format a TF model with a timestamp, for SVM models\n",
    "    Parameters\n",
    "    ----------\n",
    "    model_name: name of the model once loaded\n",
    "    basename: basename of the filename to use\n",
    "\n",
    "    Returns\n",
    "    -------\n",
    "    Loads a trained model\n",
    "    \"\"\"\n",
    "    model_name = open(SAVE_MODELS_PATH + basename, 'rb')\n",
    "    model_name = pickle.load(model_name)\n",
    "    return"
   ]
  },
  {
   "cell_type": "code",
   "execution_count": 8,
   "metadata": {
    "colab": {
     "base_uri": "https://localhost:8080/",
     "height": 195
    },
    "id": "ftAL7HCh0Om4",
    "outputId": "631e7c00-828b-44a8-86de-0f107d774777"
   },
   "outputs": [
    {
     "data": {
      "text/html": [
       "<div>\n",
       "<style scoped>\n",
       "    .dataframe tbody tr th:only-of-type {\n",
       "        vertical-align: middle;\n",
       "    }\n",
       "\n",
       "    .dataframe tbody tr th {\n",
       "        vertical-align: top;\n",
       "    }\n",
       "\n",
       "    .dataframe thead th {\n",
       "        text-align: right;\n",
       "    }\n",
       "</style>\n",
       "<table border=\"1\" class=\"dataframe\">\n",
       "  <thead>\n",
       "    <tr style=\"text-align: right;\">\n",
       "      <th></th>\n",
       "      <th>Filename</th>\n",
       "      <th>Width</th>\n",
       "      <th>Height</th>\n",
       "      <th>Roi.X1</th>\n",
       "      <th>Roi.Y1</th>\n",
       "      <th>Roi.X2</th>\n",
       "      <th>Roi.Y2</th>\n",
       "      <th>ClassId</th>\n",
       "      <th>path</th>\n",
       "    </tr>\n",
       "  </thead>\n",
       "  <tbody>\n",
       "    <tr>\n",
       "      <th>0</th>\n",
       "      <td>00000_00000.ppm</td>\n",
       "      <td>29</td>\n",
       "      <td>30</td>\n",
       "      <td>5</td>\n",
       "      <td>6</td>\n",
       "      <td>24</td>\n",
       "      <td>25</td>\n",
       "      <td>0</td>\n",
       "      <td>D:/Documents/Cours/AMSE/M2_S2/hands-on-2021/da...</td>\n",
       "    </tr>\n",
       "    <tr>\n",
       "      <th>1</th>\n",
       "      <td>00000_00001.ppm</td>\n",
       "      <td>30</td>\n",
       "      <td>30</td>\n",
       "      <td>5</td>\n",
       "      <td>5</td>\n",
       "      <td>25</td>\n",
       "      <td>25</td>\n",
       "      <td>0</td>\n",
       "      <td>D:/Documents/Cours/AMSE/M2_S2/hands-on-2021/da...</td>\n",
       "    </tr>\n",
       "    <tr>\n",
       "      <th>2</th>\n",
       "      <td>00000_00002.ppm</td>\n",
       "      <td>30</td>\n",
       "      <td>30</td>\n",
       "      <td>5</td>\n",
       "      <td>5</td>\n",
       "      <td>25</td>\n",
       "      <td>25</td>\n",
       "      <td>0</td>\n",
       "      <td>D:/Documents/Cours/AMSE/M2_S2/hands-on-2021/da...</td>\n",
       "    </tr>\n",
       "    <tr>\n",
       "      <th>3</th>\n",
       "      <td>00000_00003.ppm</td>\n",
       "      <td>31</td>\n",
       "      <td>31</td>\n",
       "      <td>5</td>\n",
       "      <td>5</td>\n",
       "      <td>26</td>\n",
       "      <td>26</td>\n",
       "      <td>0</td>\n",
       "      <td>D:/Documents/Cours/AMSE/M2_S2/hands-on-2021/da...</td>\n",
       "    </tr>\n",
       "    <tr>\n",
       "      <th>4</th>\n",
       "      <td>00000_00004.ppm</td>\n",
       "      <td>30</td>\n",
       "      <td>32</td>\n",
       "      <td>5</td>\n",
       "      <td>6</td>\n",
       "      <td>25</td>\n",
       "      <td>26</td>\n",
       "      <td>0</td>\n",
       "      <td>D:/Documents/Cours/AMSE/M2_S2/hands-on-2021/da...</td>\n",
       "    </tr>\n",
       "  </tbody>\n",
       "</table>\n",
       "</div>"
      ],
      "text/plain": [
       "          Filename  Width  Height  Roi.X1  Roi.Y1  Roi.X2  Roi.Y2  ClassId  \\\n",
       "0  00000_00000.ppm     29      30       5       6      24      25        0   \n",
       "1  00000_00001.ppm     30      30       5       5      25      25        0   \n",
       "2  00000_00002.ppm     30      30       5       5      25      25        0   \n",
       "3  00000_00003.ppm     31      31       5       5      26      26        0   \n",
       "4  00000_00004.ppm     30      32       5       6      25      26        0   \n",
       "\n",
       "                                                path  \n",
       "0  D:/Documents/Cours/AMSE/M2_S2/hands-on-2021/da...  \n",
       "1  D:/Documents/Cours/AMSE/M2_S2/hands-on-2021/da...  \n",
       "2  D:/Documents/Cours/AMSE/M2_S2/hands-on-2021/da...  \n",
       "3  D:/Documents/Cours/AMSE/M2_S2/hands-on-2021/da...  \n",
       "4  D:/Documents/Cours/AMSE/M2_S2/hands-on-2021/da...  "
      ]
     },
     "execution_count": 8,
     "metadata": {},
     "output_type": "execute_result"
    }
   ],
   "source": [
    "images_df = build_images_database(TRAINING_CSV_PATH)\n",
    "images_df.head()"
   ]
  },
  {
   "cell_type": "markdown",
   "metadata": {
    "id": "fzugulfj08UM"
   },
   "source": [
    "## Exploration of the data with a subset of 200 images"
   ]
  },
  {
   "cell_type": "code",
   "execution_count": 9,
   "metadata": {
    "id": "fwKINXlR0w4U"
   },
   "outputs": [],
   "source": [
    "# Reading only 200 images for the moment\n",
    "images_list = build_images_list(images_df.head(200)['path'].values,\n",
    "                                images_df.head(200).apply(lambda r: (r['Roi.X1'], r['Roi.Y1'], r['Roi.X2'], r['Roi.Y2']),\n",
    "                                                          axis=1).values)"
   ]
  },
  {
   "cell_type": "code",
   "execution_count": 10,
   "metadata": {
    "colab": {
     "base_uri": "https://localhost:8080/",
     "height": 283
    },
    "id": "2E6QxoJd0xF1",
    "outputId": "28b742da-3d9b-4d1f-e7ff-af66f27e9e3a"
   },
   "outputs": [
    {
     "data": {
      "text/plain": [
       "<matplotlib.image.AxesImage at 0x1d8912a1430>"
      ]
     },
     "execution_count": 10,
     "metadata": {},
     "output_type": "execute_result"
    },
    {
     "data": {
      "image/png": "[encoded data removed]",
      "text/plain": [
       "<Figure size 432x288 with 1 Axes>"
      ]
     },
     "metadata": {
      "needs_background": "light"
     },
     "output_type": "display_data"
    }
   ],
   "source": [
    "plt.imshow(images_list[90])"
   ]
  },
  {
   "cell_type": "code",
   "execution_count": 11,
   "metadata": {
    "colab": {
     "base_uri": "https://localhost:8080/"
    },
    "id": "L82ce61200Xc",
    "outputId": "6ac2621d-cbbb-4113-90c4-0a7894ee5ae9"
   },
   "outputs": [
    {
     "data": {
      "text/plain": [
       "array([ 0,  0,  0, ..., 42, 42, 42], dtype=int64)"
      ]
     },
     "execution_count": 11,
     "metadata": {},
     "output_type": "execute_result"
    }
   ],
   "source": [
    "build_classes_array(images_df)"
   ]
  },
  {
   "cell_type": "code",
   "execution_count": 12,
   "metadata": {
    "colab": {
     "base_uri": "https://localhost:8080/"
    },
    "id": "ase0huUb00Z4",
    "outputId": "c2dc9106-26fe-4265-9465-e5554a4ba1d8"
   },
   "outputs": [
    {
     "data": {
      "text/plain": [
       "2     2250\n",
       "1     2220\n",
       "13    2160\n",
       "12    2100\n",
       "38    2070\n",
       "10    2010\n",
       "4     1980\n",
       "5     1860\n",
       "25    1500\n",
       "9     1470\n",
       "7     1440\n",
       "8     1410\n",
       "3     1410\n",
       "11    1320\n",
       "35    1200\n",
       "18    1200\n",
       "17    1110\n",
       "31     780\n",
       "14     780\n",
       "33     689\n",
       "15     630\n",
       "26     600\n",
       "28     540\n",
       "23     510\n",
       "30     450\n",
       "16     420\n",
       "34     420\n",
       "6      420\n",
       "22     390\n",
       "36     390\n",
       "40     360\n",
       "20     360\n",
       "21     330\n",
       "39     300\n",
       "29     270\n",
       "24     270\n",
       "27     240\n",
       "42     240\n",
       "32     240\n",
       "41     240\n",
       "19     210\n",
       "37     210\n",
       "0      210\n",
       "Name: ClassId, dtype: int64"
      ]
     },
     "execution_count": 12,
     "metadata": {},
     "output_type": "execute_result"
    }
   ],
   "source": [
    "images_df['ClassId'].value_counts()"
   ]
  },
  {
   "cell_type": "code",
   "execution_count": 13,
   "metadata": {
    "colab": {
     "base_uri": "https://localhost:8080/",
     "height": 265
    },
    "id": "jIz9GG-A0bp8",
    "outputId": "ce7e5997-5486-41cb-b9f9-acbdd71a7817"
   },
   "outputs": [
    {
     "data": {
      "image/png": "[encoded data removed]",
      "text/plain": [
       "<Figure size 432x288 with 1 Axes>"
      ]
     },
     "metadata": {
      "needs_background": "light"
     },
     "output_type": "display_data"
    }
   ],
   "source": [
    "(images_df['Roi.X2'] - images_df['Roi.X1']).hist(bins=100);"
   ]
  },
  {
   "cell_type": "code",
   "execution_count": 14,
   "metadata": {
    "colab": {
     "base_uri": "https://localhost:8080/"
    },
    "id": "FsZc2fg00bwT",
    "outputId": "e91b8b8b-5e16-4dd1-f636-be22dd081fec"
   },
   "outputs": [
    {
     "data": {
      "text/plain": [
       "32.0"
      ]
     },
     "execution_count": 14,
     "metadata": {},
     "output_type": "execute_result"
    }
   ],
   "source": [
    "(images_df['Roi.Y2'] - images_df['Roi.Y1']).median()"
   ]
  },
  {
   "cell_type": "code",
   "execution_count": 15,
   "metadata": {
    "colab": {
     "base_uri": "https://localhost:8080/",
     "height": 286
    },
    "id": "WvgM4xIQ0b1j",
    "outputId": "9b0968b8-2114-44d0-baa3-6dea1d7e120a"
   },
   "outputs": [
    {
     "data": {
      "text/plain": [
       "<matplotlib.image.AxesImage at 0x1d891bc0370>"
      ]
     },
     "execution_count": 15,
     "metadata": {},
     "output_type": "execute_result"
    },
    {
     "data": {
      "image/png": "[encoded data removed]",
      "text/plain": [
       "<Figure size 432x288 with 1 Axes>"
      ]
     },
     "metadata": {
      "needs_background": "light"
     },
     "output_type": "display_data"
    }
   ],
   "source": [
    "plt.imshow(Image.open(images_df.query('Width == 162')['path'].values[0]))"
   ]
  },
  {
   "cell_type": "code",
   "execution_count": 16,
   "metadata": {
    "colab": {
     "base_uri": "https://localhost:8080/",
     "height": 283
    },
    "id": "ShoPgVvF0b4N",
    "outputId": "4c96ac21-604a-409e-d3cf-2b5cf2c3e29b"
   },
   "outputs": [
    {
     "data": {
      "text/plain": [
       "<matplotlib.image.AxesImage at 0x1d891a61790>"
      ]
     },
     "execution_count": 16,
     "metadata": {},
     "output_type": "execute_result"
    },
    {
     "data": {
      "image/png": "[encoded data removed]",
      "text/plain": [
       "<Figure size 432x288 with 1 Axes>"
      ]
     },
     "metadata": {
      "needs_background": "light"
     },
     "output_type": "display_data"
    }
   ],
   "source": [
    "plt.imshow(Image.open(images_df.query('Width == 162')['path'].values[0]).resize((30, 30)))"
   ]
  },
  {
   "cell_type": "code",
   "execution_count": 17,
   "metadata": {
    "colab": {
     "base_uri": "https://localhost:8080/",
     "height": 77
    },
    "id": "__FHfFNZ1NkF",
    "outputId": "5e68b2f2-11a9-4a56-cef2-cdc61a7cadcc"
   },
   "outputs": [
    {
     "data": {
      "text/html": [
       "<div>\n",
       "<style scoped>\n",
       "    .dataframe tbody tr th:only-of-type {\n",
       "        vertical-align: middle;\n",
       "    }\n",
       "\n",
       "    .dataframe tbody tr th {\n",
       "        vertical-align: top;\n",
       "    }\n",
       "\n",
       "    .dataframe thead th {\n",
       "        text-align: right;\n",
       "    }\n",
       "</style>\n",
       "<table border=\"1\" class=\"dataframe\">\n",
       "  <thead>\n",
       "    <tr style=\"text-align: right;\">\n",
       "      <th></th>\n",
       "      <th>Filename</th>\n",
       "      <th>Width</th>\n",
       "      <th>Height</th>\n",
       "      <th>Roi.X1</th>\n",
       "      <th>Roi.Y1</th>\n",
       "      <th>Roi.X2</th>\n",
       "      <th>Roi.Y2</th>\n",
       "      <th>ClassId</th>\n",
       "      <th>path</th>\n",
       "    </tr>\n",
       "  </thead>\n",
       "  <tbody>\n",
       "    <tr>\n",
       "      <th>0</th>\n",
       "      <td>00000_00000.ppm</td>\n",
       "      <td>29</td>\n",
       "      <td>30</td>\n",
       "      <td>5</td>\n",
       "      <td>6</td>\n",
       "      <td>24</td>\n",
       "      <td>25</td>\n",
       "      <td>0</td>\n",
       "      <td>D:/Documents/Cours/AMSE/M2_S2/hands-on-2021/da...</td>\n",
       "    </tr>\n",
       "  </tbody>\n",
       "</table>\n",
       "</div>"
      ],
      "text/plain": [
       "          Filename  Width  Height  Roi.X1  Roi.Y1  Roi.X2  Roi.Y2  ClassId  \\\n",
       "0  00000_00000.ppm     29      30       5       6      24      25        0   \n",
       "\n",
       "                                                path  \n",
       "0  D:/Documents/Cours/AMSE/M2_S2/hands-on-2021/da...  "
      ]
     },
     "execution_count": 17,
     "metadata": {},
     "output_type": "execute_result"
    }
   ],
   "source": [
    "images_df.head(1)"
   ]
  },
  {
   "cell_type": "markdown",
   "metadata": {
    "id": "6_cnuUOF3s5l"
   },
   "source": [
    "# Training the models"
   ]
  },
  {
   "cell_type": "code",
   "execution_count": 19,
   "metadata": {
    "colab": {
     "base_uri": "https://localhost:8080/"
    },
    "id": "h1-3yo5F6yhN",
    "outputId": "9930afd8-18bb-45e8-8ed7-150babb61013"
   },
   "outputs": [
    {
     "name": "stdout",
     "output_type": "stream",
     "text": [
      "2.3.0\n"
     ]
    }
   ],
   "source": [
    "print(tf.__version__)"
   ]
  },
  {
   "cell_type": "markdown",
   "metadata": {
    "id": "I2sC5Uwx3yFE"
   },
   "source": [
    "#### Take a sample to test the code"
   ]
  },
  {
   "cell_type": "code",
   "execution_count": 21,
   "metadata": {
    "colab": {
     "base_uri": "https://localhost:8080/"
    },
    "id": "sz42ZF9Y3yH6",
    "outputId": "9ac2aefe-0437-4033-e4eb-29ef23c85aeb"
   },
   "outputs": [
    {
     "data": {
      "text/plain": [
       "(39209, 9)"
      ]
     },
     "execution_count": 21,
     "metadata": {},
     "output_type": "execute_result"
    }
   ],
   "source": [
    "images_df.shape"
   ]
  },
  {
   "cell_type": "code",
   "execution_count": 22,
   "metadata": {
    "colab": {
     "base_uri": "https://localhost:8080/"
    },
    "id": "kQqv2imA3yKY",
    "outputId": "7557643f-d71b-4e25-c145-223af789b566"
   },
   "outputs": [
    {
     "name": "stdout",
     "output_type": "stream",
     "text": [
      "(39209, 30, 30, 3) (39209,)\n"
     ]
    }
   ],
   "source": [
    "#N = 10_000\n",
    "N = None # Take all\n",
    "\n",
    "if N is None:\n",
    "  images_list = build_images_list(images_df['path'].values,\n",
    "                                  images_df.apply(lambda r: (r['Roi.X1'], r['Roi.Y1'], r['Roi.X2'], r['Roi.Y2']),\n",
    "                                                        axis=1).values)\n",
    "  data = np.array(images_list)\n",
    "  labels = build_classes_array(images_df)\n",
    "else:\n",
    "  images_list = build_images_list(images_df.head(N)['path'].values,\n",
    "                                  images_df.head(N).apply(lambda r: (r['Roi.X1'], r['Roi.Y1'], r['Roi.X2'], r['Roi.Y2']),\n",
    "                                                            axis=1).values)\n",
    "  data = np.array(images_list)\n",
    "  labels = build_classes_array(images_df)[:N]\n",
    "\n",
    "print(data.shape, labels.shape)"
   ]
  },
  {
   "cell_type": "code",
   "execution_count": 23,
   "metadata": {
    "colab": {
     "base_uri": "https://localhost:8080/"
    },
    "id": "mLrYGbIF3yM9",
    "outputId": "293a84ed-0318-4f48-a92b-611b3cc3f78f"
   },
   "outputs": [
    {
     "name": "stdout",
     "output_type": "stream",
     "text": [
      "(31367, 30, 30, 3) (7842, 30, 30, 3) (31367,) (7842,)\n"
     ]
    }
   ],
   "source": [
    "#Splitting training and testing dataset\n",
    "X_train, X_test, y_train, y_test = train_test_split(data, labels, test_size=0.2, random_state=42)\n",
    "\n",
    "print(X_train.shape, X_test.shape, y_train.shape, y_test.shape)"
   ]
  },
  {
   "cell_type": "code",
   "execution_count": 24,
   "metadata": {
    "colab": {
     "base_uri": "https://localhost:8080/"
    },
    "id": "NUO1b69A3yPr",
    "outputId": "e87edab9-752b-450d-e532-b58cb556ee08"
   },
   "outputs": [
    {
     "name": "stdout",
     "output_type": "stream",
     "text": [
      "(31367, 43) (7842, 43)\n"
     ]
    }
   ],
   "source": [
    "#Converting the labels into one hot encoding\n",
    "y_train = to_categorical(y_train, 43)\n",
    "y_test = to_categorical(y_test, 43)\n",
    "print(y_train.shape, y_test.shape)"
   ]
  },
  {
   "cell_type": "markdown",
   "metadata": {},
   "source": [
    "## Neural Network model"
   ]
  },
  {
   "cell_type": "markdown",
   "metadata": {
    "id": "0TZe1swl4V3Z"
   },
   "source": [
    "### Compilation of the model"
   ]
  },
  {
   "cell_type": "code",
   "execution_count": 25,
   "metadata": {
    "id": "WDaC_YnZ4Nl0"
   },
   "outputs": [
    {
     "name": "stdout",
     "output_type": "stream",
     "text": [
      "Model: \"sequential\"\n",
      "_________________________________________________________________\n",
      "Layer (type)                 Output Shape              Param #   \n",
      "=================================================================\n",
      "conv2d (Conv2D)              (None, 26, 26, 32)        2432      \n",
      "_________________________________________________________________\n",
      "conv2d_1 (Conv2D)            (None, 22, 22, 32)        25632     \n",
      "_________________________________________________________________\n",
      "max_pooling2d (MaxPooling2D) (None, 11, 11, 32)        0         \n",
      "_________________________________________________________________\n",
      "dropout (Dropout)            (None, 11, 11, 32)        0         \n",
      "_________________________________________________________________\n",
      "conv2d_2 (Conv2D)            (None, 9, 9, 64)          18496     \n",
      "_________________________________________________________________\n",
      "conv2d_3 (Conv2D)            (None, 7, 7, 64)          36928     \n",
      "_________________________________________________________________\n",
      "max_pooling2d_1 (MaxPooling2 (None, 3, 3, 64)          0         \n",
      "_________________________________________________________________\n",
      "dropout_1 (Dropout)          (None, 3, 3, 64)          0         \n",
      "_________________________________________________________________\n",
      "flatten (Flatten)            (None, 576)               0         \n",
      "_________________________________________________________________\n",
      "dense (Dense)                (None, 256)               147712    \n",
      "_________________________________________________________________\n",
      "dropout_2 (Dropout)          (None, 256)               0         \n",
      "_________________________________________________________________\n",
      "dense_1 (Dense)              (None, 43)                11051     \n",
      "=================================================================\n",
      "Total params: 242,251\n",
      "Trainable params: 242,251\n",
      "Non-trainable params: 0\n",
      "_________________________________________________________________\n"
     ]
    }
   ],
   "source": [
    "model = Sequential()\n",
    "model.add(Conv2D(filters=32, kernel_size=(5,5), activation='relu', input_shape=X_train.shape[1:]))\n",
    "model.add(Conv2D(filters=32, kernel_size=(5,5), activation='relu'))\n",
    "model.add(MaxPool2D(pool_size=(2, 2)))\n",
    "model.add(Dropout(rate=0.25))\n",
    "model.add(Conv2D(filters=64, kernel_size=(3, 3), activation='relu'))\n",
    "model.add(Conv2D(filters=64, kernel_size=(3, 3), activation='relu'))\n",
    "model.add(MaxPool2D(pool_size=(2, 2)))\n",
    "model.add(Dropout(rate=0.25))\n",
    "model.add(Flatten())\n",
    "model.add(Dense(256, activation='relu'))\n",
    "model.add(Dropout(rate=0.5))\n",
    "model.add(Dense(43, activation='softmax'))\n",
    "model.compile(loss='categorical_crossentropy', optimizer='adam', metrics=['accuracy'])\n",
    "\n",
    "model.summary()"
   ]
  },
  {
   "cell_type": "code",
   "execution_count": 26,
   "metadata": {},
   "outputs": [
    {
     "name": "stdout",
     "output_type": "stream",
     "text": [
      "(31367, 30, 30, 3) (7842, 30, 30, 3) (31367, 43) (7842, 43)\n"
     ]
    }
   ],
   "source": [
    "print(X_train.shape, X_test.shape, y_train.shape, y_test.shape)"
   ]
  },
  {
   "cell_type": "code",
   "execution_count": 27,
   "metadata": {},
   "outputs": [
    {
     "name": "stdout",
     "output_type": "stream",
     "text": [
      "Epoch 1/15\n",
      "981/981 [==============================] - 96s 98ms/step - loss: 2.0429 - accuracy: 0.5041 - val_loss: 0.4077 - val_accuracy: 0.8944\n",
      "Epoch 2/15\n",
      "981/981 [==============================] - 84s 86ms/step - loss: 0.5738 - accuracy: 0.8398 - val_loss: 0.2028 - val_accuracy: 0.9494\n",
      "Epoch 3/15\n",
      "981/981 [==============================] - 78s 79ms/step - loss: 0.3876 - accuracy: 0.8900 - val_loss: 0.1814 - val_accuracy: 0.9489\n",
      "Epoch 4/15\n",
      "981/981 [==============================] - 78s 79ms/step - loss: 0.3051 - accuracy: 0.9123 - val_loss: 0.1105 - val_accuracy: 0.9705\n",
      "Epoch 5/15\n",
      "981/981 [==============================] - 77s 79ms/step - loss: 0.2617 - accuracy: 0.9265 - val_loss: 0.0830 - val_accuracy: 0.9779\n",
      "Epoch 6/15\n",
      "981/981 [==============================] - 78s 79ms/step - loss: 0.2300 - accuracy: 0.9347 - val_loss: 0.1472 - val_accuracy: 0.9586\n",
      "Epoch 7/15\n",
      "981/981 [==============================] - 77s 79ms/step - loss: 0.2230 - accuracy: 0.9373 - val_loss: 0.1021 - val_accuracy: 0.9708\n",
      "Epoch 8/15\n",
      "981/981 [==============================] - 78s 80ms/step - loss: 0.2259 - accuracy: 0.9382 - val_loss: 0.0729 - val_accuracy: 0.9795\n",
      "Epoch 9/15\n",
      "981/981 [==============================] - 77s 78ms/step - loss: 0.1965 - accuracy: 0.9448 - val_loss: 0.0793 - val_accuracy: 0.9790\n",
      "Epoch 10/15\n",
      "981/981 [==============================] - 78s 79ms/step - loss: 0.1866 - accuracy: 0.9477 - val_loss: 0.0665 - val_accuracy: 0.9843\n",
      "Epoch 11/15\n",
      "981/981 [==============================] - 77s 79ms/step - loss: 0.1865 - accuracy: 0.9492 - val_loss: 0.0737 - val_accuracy: 0.9791\n",
      "Epoch 12/15\n",
      "981/981 [==============================] - 77s 79ms/step - loss: 0.1842 - accuracy: 0.9498 - val_loss: 0.0549 - val_accuracy: 0.9852\n",
      "Epoch 13/15\n",
      "981/981 [==============================] - 78s 80ms/step - loss: 0.1711 - accuracy: 0.9532 - val_loss: 0.0518 - val_accuracy: 0.9864\n",
      "Epoch 14/15\n",
      "981/981 [==============================] - 78s 79ms/step - loss: 0.1583 - accuracy: 0.9562 - val_loss: 0.0444 - val_accuracy: 0.9889\n",
      "Epoch 15/15\n",
      "981/981 [==============================] - 78s 79ms/step - loss: 0.1589 - accuracy: 0.9570 - val_loss: 0.0864 - val_accuracy: 0.9788\n",
      "Wall time: 19min 53s\n"
     ]
    }
   ],
   "source": [
    "%%time\n",
    "epochs = 15\n",
    "history = model.fit(X_train, y_train, batch_size=32, epochs=epochs, validation_data=(X_test, y_test))"
   ]
  },
  {
   "cell_type": "markdown",
   "metadata": {
    "id": "2ygatCcDFP0w"
   },
   "source": [
    "### Plot model accurary & loss"
   ]
  },
  {
   "cell_type": "code",
   "execution_count": 28,
   "metadata": {
    "colab": {
     "base_uri": "https://localhost:8080/",
     "height": 573
    },
    "id": "QfFca1weEiFk",
    "outputId": "c60f0a27-4d86-42a2-9db4-6a8cf2ee1f48"
   },
   "outputs": [
    {
     "data": {
      "image/png": "[encoded data removed]",
      "text/plain": [
       "<Figure size 432x288 with 1 Axes>"
      ]
     },
     "metadata": {
      "needs_background": "light"
     },
     "output_type": "display_data"
    },
    {
     "data": {
      "image/png": "[encoded data removed]",
      "text/plain": [
       "<Figure size 432x288 with 1 Axes>"
      ]
     },
     "metadata": {
      "needs_background": "light"
     },
     "output_type": "display_data"
    }
   ],
   "source": [
    "#plotting graphs for accuracy \n",
    "plt.figure(0)\n",
    "plt.plot(history.history['accuracy'], label='training accuracy')\n",
    "plt.plot(history.history['val_accuracy'], label='val accuracy')\n",
    "plt.title('Accuracy')\n",
    "plt.xlabel('epochs')\n",
    "plt.ylabel('accuracy')\n",
    "plt.legend()\n",
    "plt.show()\n",
    "\n",
    "plt.figure(1)\n",
    "plt.plot(history.history['loss'], label='training loss')\n",
    "plt.plot(history.history['val_loss'], label='val loss')\n",
    "plt.title('Loss')\n",
    "plt.xlabel('epochs')\n",
    "plt.ylabel('loss')\n",
    "plt.legend()\n",
    "plt.show()\n"
   ]
  },
  {
   "cell_type": "markdown",
   "metadata": {
    "id": "LTekwrrHwUtF"
   },
   "source": [
    "### Save classifier"
   ]
  },
  {
   "cell_type": "code",
   "execution_count": 30,
   "metadata": {
    "id": "jFbUNo7quwOT"
   },
   "outputs": [],
   "source": [
    "save_classifier(model, 'traffic_signs_NN')"
   ]
  },
  {
   "cell_type": "markdown",
   "metadata": {},
   "source": [
    "## SVM Model"
   ]
  },
  {
   "cell_type": "markdown",
   "metadata": {},
   "source": [
    "### Importation of modules"
   ]
  },
  {
   "cell_type": "markdown",
   "metadata": {},
   "source": [
    "### Split dataset and reshape inputs for SVM classifier"
   ]
  },
  {
   "cell_type": "code",
   "execution_count": 32,
   "metadata": {},
   "outputs": [],
   "source": [
    "X_train_SVM, X_test_SVM, y_train_SVM, y_test_SVM = train_test_split(data, labels, test_size=0.2, random_state=42)"
   ]
  },
  {
   "cell_type": "code",
   "execution_count": 33,
   "metadata": {},
   "outputs": [
    {
     "data": {
      "text/plain": [
       "(31367, 30, 30, 3)"
      ]
     },
     "execution_count": 33,
     "metadata": {},
     "output_type": "execute_result"
    }
   ],
   "source": [
    "X_train_SVM.shape"
   ]
  },
  {
   "cell_type": "code",
   "execution_count": 34,
   "metadata": {},
   "outputs": [
    {
     "data": {
      "text/plain": [
       "(31367, 2700)"
      ]
     },
     "execution_count": 34,
     "metadata": {},
     "output_type": "execute_result"
    }
   ],
   "source": [
    "X_train_size = len(X_train_SVM)\n",
    "X_train_SVM = X_train.reshape(X_train_size,-1)\n",
    "X_train_SVM.shape"
   ]
  },
  {
   "cell_type": "code",
   "execution_count": 35,
   "metadata": {},
   "outputs": [
    {
     "data": {
      "text/plain": [
       "(7842, 2700)"
      ]
     },
     "execution_count": 35,
     "metadata": {},
     "output_type": "execute_result"
    }
   ],
   "source": [
    "X_test_size = len(X_test_SVM)\n",
    "X_test_SVM = X_test.reshape(X_test_size,-1)\n",
    "X_test_SVM.shape"
   ]
  },
  {
   "cell_type": "markdown",
   "metadata": {},
   "source": [
    "## Training the models"
   ]
  },
  {
   "cell_type": "code",
   "execution_count": 36,
   "metadata": {},
   "outputs": [
    {
     "name": "stdout",
     "output_type": "stream",
     "text": [
      "Wall time: 3min 11s\n"
     ]
    }
   ],
   "source": [
    "%%time\n",
    "linear = svm.SVC(kernel='linear', C=1, decision_function_shape='ovo').fit(X_train_SVM, y_train_SVM)"
   ]
  },
  {
   "cell_type": "code",
   "execution_count": 37,
   "metadata": {},
   "outputs": [
    {
     "name": "stdout",
     "output_type": "stream",
     "text": [
      "Wall time: 1h 6min 43s\n"
     ]
    }
   ],
   "source": [
    "%%time\n",
    "rbf = svm.SVC(kernel='rbf', gamma=1, C=1, decision_function_shape='ovo').fit(X_train_SVM, y_train_SVM)"
   ]
  },
  {
   "cell_type": "code",
   "execution_count": 38,
   "metadata": {},
   "outputs": [
    {
     "name": "stdout",
     "output_type": "stream",
     "text": [
      "Wall time: 11min 44s\n"
     ]
    }
   ],
   "source": [
    "%%time\n",
    "poly = svm.SVC(kernel='poly', degree=3, C=1, decision_function_shape='ovo').fit(X_train_SVM, y_train_SVM)"
   ]
  },
  {
   "cell_type": "markdown",
   "metadata": {},
   "source": [
    "### Save classifier"
   ]
  },
  {
   "cell_type": "code",
   "execution_count": 65,
   "metadata": {},
   "outputs": [],
   "source": [
    "# Save the trained models as a pickle string.\n",
    "save_classifier_SVM(linear, 'traffic_signs_SVM_linear')\n",
    "save_classifier_SVM(rbf, 'traffic_signs_SVM_rbf')\n",
    "save_classifier_SVM(poly, 'traffic_signs_SVM_poly')"
   ]
  },
  {
   "cell_type": "markdown",
   "metadata": {},
   "source": [
    "# Load all the models"
   ]
  },
  {
   "cell_type": "code",
   "execution_count": 70,
   "metadata": {},
   "outputs": [],
   "source": [
    "# Load the Neural Network model\n",
    "model_NN = load_model(SAVE_MODELS_PATH + 'traffic_signs_NN_2021-03-30_23-48-11.h5')\n",
    "\n",
    "# Load the SVM models\n",
    "model_SVM_linear_picle = open(SAVE_MODELS_PATH + 'traffic_signs_SVM_linear_2021-03-31_01-35-34.pickle', 'rb')\n",
    "model_SVM_linear = pickle.load(model_SVM_linear_picle)\n",
    "\n",
    "model_SVM_poly_picle = open(SAVE_MODELS_PATH + 'traffic_signs_SVM_poly_2021-03-31_13-47-41.pickle', 'rb')\n",
    "model_SVM_poly = pickle.load(model_SVM_poly_picle)\n",
    "    \n",
    "model_SVM_rbf_picle = open(SAVE_MODELS_PATH + 'traffic_signs_SVM_rbf_2021-03-31_01-35-35.pickle', 'rb')\n",
    "model_SVM_rbf = pickle.load(model_SVM_rbf_picle)"
   ]
  },
  {
   "cell_type": "code",
   "execution_count": 71,
   "metadata": {},
   "outputs": [
    {
     "data": {
      "text/plain": [
       "SVC(C=1, decision_function_shape='ovo', kernel='poly')"
      ]
     },
     "execution_count": 71,
     "metadata": {},
     "output_type": "execute_result"
    }
   ],
   "source": [
    "model_SVM_poly"
   ]
  },
  {
   "cell_type": "markdown",
   "metadata": {
    "id": "u2ZYM2IiGlIy"
   },
   "source": [
    "## Evaluating performance"
   ]
  },
  {
   "cell_type": "markdown",
   "metadata": {
    "id": "oMyuWbzvGqz_"
   },
   "source": [
    "### Extracting test data"
   ]
  },
  {
   "cell_type": "code",
   "execution_count": 73,
   "metadata": {
    "id": "YMZpUzz9y_WN"
   },
   "outputs": [],
   "source": [
    "#!unzip -q GTSRB_Final_Test_Images.zip"
   ]
  },
  {
   "cell_type": "code",
   "execution_count": 87,
   "metadata": {
    "colab": {
     "base_uri": "https://localhost:8080/"
    },
    "id": "PT6GSsQnzoX2",
    "outputId": "fb163c1b-7333-4ec3-f18d-c6c541a28b99"
   },
   "outputs": [
    {
     "name": "stdout",
     "output_type": "stream",
     "text": [
      "Archive:  GTSRB_Final_Test_GT.zip\n",
      "  inflating: GT-final_test.csv       \n"
     ]
    }
   ],
   "source": [
    "#!unzip GTSRB_Final_Test_GT.zip"
   ]
  },
  {
   "cell_type": "markdown",
   "metadata": {
    "id": "HIyLYfSwGvhE"
   },
   "source": [
    "### Load test data"
   ]
  },
  {
   "cell_type": "code",
   "execution_count": 82,
   "metadata": {
    "colab": {
     "base_uri": "https://localhost:8080/",
     "height": 206
    },
    "id": "vhyl5i3C0MwH",
    "outputId": "813234f3-6ebc-4505-d270-e4492af926a9"
   },
   "outputs": [
    {
     "data": {
      "text/html": [
       "<div>\n",
       "<style scoped>\n",
       "    .dataframe tbody tr th:only-of-type {\n",
       "        vertical-align: middle;\n",
       "    }\n",
       "\n",
       "    .dataframe tbody tr th {\n",
       "        vertical-align: top;\n",
       "    }\n",
       "\n",
       "    .dataframe thead th {\n",
       "        text-align: right;\n",
       "    }\n",
       "</style>\n",
       "<table border=\"1\" class=\"dataframe\">\n",
       "  <thead>\n",
       "    <tr style=\"text-align: right;\">\n",
       "      <th></th>\n",
       "      <th>Filename</th>\n",
       "      <th>Width</th>\n",
       "      <th>Height</th>\n",
       "      <th>Roi.X1</th>\n",
       "      <th>Roi.Y1</th>\n",
       "      <th>Roi.X2</th>\n",
       "      <th>Roi.Y2</th>\n",
       "      <th>ClassId</th>\n",
       "      <th>path</th>\n",
       "    </tr>\n",
       "  </thead>\n",
       "  <tbody>\n",
       "    <tr>\n",
       "      <th>12625</th>\n",
       "      <td>12625.ppm</td>\n",
       "      <td>42</td>\n",
       "      <td>41</td>\n",
       "      <td>5</td>\n",
       "      <td>6</td>\n",
       "      <td>37</td>\n",
       "      <td>36</td>\n",
       "      <td>12</td>\n",
       "      <td>D:/Documents/Cours/AMSE/M2_S2/hands-on-2021/da...</td>\n",
       "    </tr>\n",
       "    <tr>\n",
       "      <th>12626</th>\n",
       "      <td>12626.ppm</td>\n",
       "      <td>50</td>\n",
       "      <td>51</td>\n",
       "      <td>6</td>\n",
       "      <td>5</td>\n",
       "      <td>45</td>\n",
       "      <td>46</td>\n",
       "      <td>33</td>\n",
       "      <td>D:/Documents/Cours/AMSE/M2_S2/hands-on-2021/da...</td>\n",
       "    </tr>\n",
       "    <tr>\n",
       "      <th>12627</th>\n",
       "      <td>12627.ppm</td>\n",
       "      <td>29</td>\n",
       "      <td>29</td>\n",
       "      <td>6</td>\n",
       "      <td>6</td>\n",
       "      <td>24</td>\n",
       "      <td>24</td>\n",
       "      <td>6</td>\n",
       "      <td>D:/Documents/Cours/AMSE/M2_S2/hands-on-2021/da...</td>\n",
       "    </tr>\n",
       "    <tr>\n",
       "      <th>12628</th>\n",
       "      <td>12628.ppm</td>\n",
       "      <td>48</td>\n",
       "      <td>49</td>\n",
       "      <td>5</td>\n",
       "      <td>6</td>\n",
       "      <td>43</td>\n",
       "      <td>44</td>\n",
       "      <td>7</td>\n",
       "      <td>D:/Documents/Cours/AMSE/M2_S2/hands-on-2021/da...</td>\n",
       "    </tr>\n",
       "    <tr>\n",
       "      <th>12629</th>\n",
       "      <td>12629.ppm</td>\n",
       "      <td>32</td>\n",
       "      <td>31</td>\n",
       "      <td>6</td>\n",
       "      <td>5</td>\n",
       "      <td>27</td>\n",
       "      <td>26</td>\n",
       "      <td>10</td>\n",
       "      <td>D:/Documents/Cours/AMSE/M2_S2/hands-on-2021/da...</td>\n",
       "    </tr>\n",
       "  </tbody>\n",
       "</table>\n",
       "</div>"
      ],
      "text/plain": [
       "        Filename  Width  Height  Roi.X1  Roi.Y1  Roi.X2  Roi.Y2  ClassId  \\\n",
       "12625  12625.ppm     42      41       5       6      37      36       12   \n",
       "12626  12626.ppm     50      51       6       5      45      46       33   \n",
       "12627  12627.ppm     29      29       6       6      24      24        6   \n",
       "12628  12628.ppm     48      49       5       6      43      44        7   \n",
       "12629  12629.ppm     32      31       6       5      27      26       10   \n",
       "\n",
       "                                                    path  \n",
       "12625  D:/Documents/Cours/AMSE/M2_S2/hands-on-2021/da...  \n",
       "12626  D:/Documents/Cours/AMSE/M2_S2/hands-on-2021/da...  \n",
       "12627  D:/Documents/Cours/AMSE/M2_S2/hands-on-2021/da...  \n",
       "12628  D:/Documents/Cours/AMSE/M2_S2/hands-on-2021/da...  \n",
       "12629  D:/Documents/Cours/AMSE/M2_S2/hands-on-2021/da...  "
      ]
     },
     "execution_count": 82,
     "metadata": {},
     "output_type": "execute_result"
    }
   ],
   "source": [
    "test_images_df = pd.read_csv('D:/Documents/Cours/AMSE/M2_S2/hands-on-2021/data/raw/GTSRB_Final_Test_GT/GT-final_test.csv', sep=';')\n",
    "test_images_df['path'] = test_images_df['Filename'].apply(lambda x: 'D:/Documents/Cours/AMSE/M2_S2/hands-on-2021/data/raw/GTSRB_Final_Test_Images/GTSRB/Final_Test/Images/' + x)\n",
    "test_images_df.tail()"
   ]
  },
  {
   "cell_type": "code",
   "execution_count": 83,
   "metadata": {
    "id": "4KQn1mhf0y4L"
   },
   "outputs": [],
   "source": [
    "test_list = build_images_list(test_images_df['path'].values,\n",
    "                              test_images_df.apply(lambda r: (r['Roi.X1'], r['Roi.Y1'], r['Roi.X2'], r['Roi.Y2']),\n",
    "                                                   axis=1).values)\n",
    "test_data = np.array(test_list)\n",
    "test_labels = build_classes_array(test_images_df)\n"
   ]
  },
  {
   "cell_type": "code",
   "execution_count": 84,
   "metadata": {
    "colab": {
     "base_uri": "https://localhost:8080/"
    },
    "id": "_SZW7Q7113bS",
    "outputId": "25545739-33f3-4e4c-975a-e6d9a5a68403"
   },
   "outputs": [
    {
     "name": "stdout",
     "output_type": "stream",
     "text": [
      "(12630, 30, 30, 3) (12630,)\n"
     ]
    }
   ],
   "source": [
    "print(test_data.shape, test_labels.shape)"
   ]
  },
  {
   "cell_type": "markdown",
   "metadata": {},
   "source": [
    "## Neural Network"
   ]
  },
  {
   "cell_type": "code",
   "execution_count": 107,
   "metadata": {
    "colab": {
     "base_uri": "https://localhost:8080/"
    },
    "id": "NqoZrOnB3mjI",
    "outputId": "07707dcb-f651-4ca0-b11d-7981bb3ddb40"
   },
   "outputs": [
    {
     "name": "stdout",
     "output_type": "stream",
     "text": [
      "Wall time: 4 s\n"
     ]
    },
    {
     "data": {
      "text/plain": [
       "0.9433887569279493"
      ]
     },
     "execution_count": 107,
     "metadata": {},
     "output_type": "execute_result"
    }
   ],
   "source": [
    "%%time\n",
    "results_nn = np.argmax(model_NN.predict(test_data), axis=-1)\n",
    "(test_labels == results_nn).sum() / test_labels.shape[0]"
   ]
  },
  {
   "cell_type": "markdown",
   "metadata": {},
   "source": [
    "## SVM models"
   ]
  },
  {
   "cell_type": "code",
   "execution_count": 120,
   "metadata": {},
   "outputs": [
    {
     "data": {
      "text/plain": [
       "(12630, 2700)"
      ]
     },
     "execution_count": 120,
     "metadata": {},
     "output_type": "execute_result"
    }
   ],
   "source": [
    "test_data_size = len(test_data)\n",
    "test_data_SVM = test_data.reshape(test_data_size,-1)\n",
    "test_data_SVM.shape"
   ]
  },
  {
   "cell_type": "code",
   "execution_count": 121,
   "metadata": {},
   "outputs": [
    {
     "name": "stdout",
     "output_type": "stream",
     "text": [
      "Wall time: 3min 7s\n"
     ]
    },
    {
     "data": {
      "text/plain": [
       "0.8738717339667459"
      ]
     },
     "execution_count": 121,
     "metadata": {},
     "output_type": "execute_result"
    }
   ],
   "source": [
    "%%time\n",
    "results_SVM_linear = model_SVM_linear.predict(test_data_SVM)\n",
    "(test_labels == results_SVM_linear).sum() / test_labels.shape[0]"
   ]
  },
  {
   "cell_type": "code",
   "execution_count": 94,
   "metadata": {},
   "outputs": [
    {
     "name": "stdout",
     "output_type": "stream",
     "text": [
      "Wall time: 6min 44s\n"
     ]
    },
    {
     "data": {
      "text/plain": [
       "0.640221694378464"
      ]
     },
     "execution_count": 94,
     "metadata": {},
     "output_type": "execute_result"
    }
   ],
   "source": [
    "%%time\n",
    "results_SVM_poly = model_SVM_poly.predict(test_data_SVM)\n",
    "(test_labels == results_SVM_poly).sum() / test_labels.shape[0]"
   ]
  },
  {
   "cell_type": "code",
   "execution_count": 95,
   "metadata": {},
   "outputs": [
    {
     "name": "stdout",
     "output_type": "stream",
     "text": [
      "Wall time: 19min 56s\n"
     ]
    },
    {
     "data": {
      "text/plain": [
       "0.05985748218527316"
      ]
     },
     "execution_count": 95,
     "metadata": {},
     "output_type": "execute_result"
    }
   ],
   "source": [
    "%%time\n",
    "results_SVM_rbf = model_SVM_rbf.predict(test_data_SVM)\n",
    "(test_labels == resultsSVM_rbf).sum() / test_labels.shape[0]"
   ]
  },
  {
   "cell_type": "markdown",
   "metadata": {
    "id": "9tKnyS2RGz53"
   },
   "source": [
    "## Compare actual to predicted (class-level) for Neural Network"
   ]
  },
  {
   "cell_type": "code",
   "execution_count": 108,
   "metadata": {
    "id": "29fAcXvB_28B"
   },
   "outputs": [],
   "source": [
    "accuracy_df = pd.DataFrame()\n",
    "accuracy_df['actual'] = test_labels\n",
    "accuracy_df['predicted'] = results_nn"
   ]
  },
  {
   "cell_type": "code",
   "execution_count": 109,
   "metadata": {},
   "outputs": [
    {
     "data": {
      "text/html": [
       "<div>\n",
       "<style scoped>\n",
       "    .dataframe tbody tr th:only-of-type {\n",
       "        vertical-align: middle;\n",
       "    }\n",
       "\n",
       "    .dataframe tbody tr th {\n",
       "        vertical-align: top;\n",
       "    }\n",
       "\n",
       "    .dataframe thead th {\n",
       "        text-align: right;\n",
       "    }\n",
       "</style>\n",
       "<table border=\"1\" class=\"dataframe\">\n",
       "  <thead>\n",
       "    <tr style=\"text-align: right;\">\n",
       "      <th></th>\n",
       "      <th>actual</th>\n",
       "      <th>predicted</th>\n",
       "    </tr>\n",
       "  </thead>\n",
       "  <tbody>\n",
       "    <tr>\n",
       "      <th>0</th>\n",
       "      <td>16</td>\n",
       "      <td>16</td>\n",
       "    </tr>\n",
       "    <tr>\n",
       "      <th>1</th>\n",
       "      <td>1</td>\n",
       "      <td>1</td>\n",
       "    </tr>\n",
       "    <tr>\n",
       "      <th>2</th>\n",
       "      <td>38</td>\n",
       "      <td>38</td>\n",
       "    </tr>\n",
       "    <tr>\n",
       "      <th>3</th>\n",
       "      <td>33</td>\n",
       "      <td>33</td>\n",
       "    </tr>\n",
       "    <tr>\n",
       "      <th>4</th>\n",
       "      <td>11</td>\n",
       "      <td>11</td>\n",
       "    </tr>\n",
       "  </tbody>\n",
       "</table>\n",
       "</div>"
      ],
      "text/plain": [
       "   actual  predicted\n",
       "0      16         16\n",
       "1       1          1\n",
       "2      38         38\n",
       "3      33         33\n",
       "4      11         11"
      ]
     },
     "execution_count": 109,
     "metadata": {},
     "output_type": "execute_result"
    }
   ],
   "source": [
    "accuracy_df.head()"
   ]
  },
  {
   "cell_type": "code",
   "execution_count": 113,
   "metadata": {
    "colab": {
     "base_uri": "https://localhost:8080/",
     "height": 612
    },
    "id": "2QM1u6kFCA2m",
    "outputId": "c71995ee-a8f8-4801-f58a-c2e03206063f"
   },
   "outputs": [
    {
     "data": {
      "image/png": "[encoded data removed]",
      "text/plain": [
       "<Figure size 864x720 with 2 Axes>"
      ]
     },
     "metadata": {
      "needs_background": "light"
     },
     "output_type": "display_data"
    }
   ],
   "source": [
    "import seaborn as sns\n",
    "\n",
    "fig, ax = plt.subplots(figsize=(12, 10))\n",
    "sns.heatmap(pd.crosstab(accuracy_df['actual'], accuracy_df['predicted'], normalize='index'),\n",
    "            cmap='vlag',\n",
    "            ax=ax)\n",
    "\n",
    "ax.set_title('Heatmap of predictions of the Neural Network')\n",
    "plt.show()"
   ]
  },
  {
   "cell_type": "markdown",
   "metadata": {
    "id": "9tKnyS2RGz53"
   },
   "source": [
    "## Compare actual to predicted (class-level) for chosen SVM"
   ]
  },
  {
   "cell_type": "code",
   "execution_count": 122,
   "metadata": {},
   "outputs": [
    {
     "data": {
      "text/plain": [
       "array([16,  1, 38, ...,  5,  7, 10], dtype=int64)"
      ]
     },
     "execution_count": 122,
     "metadata": {},
     "output_type": "execute_result"
    }
   ],
   "source": [
    "results_SVM_linear"
   ]
  },
  {
   "cell_type": "code",
   "execution_count": 123,
   "metadata": {
    "id": "29fAcXvB_28B"
   },
   "outputs": [],
   "source": [
    "accuracy_df = pd.DataFrame()\n",
    "accuracy_df['actual'] = test_labels\n",
    "accuracy_df['predicted'] = results_SVM_linear"
   ]
  },
  {
   "cell_type": "code",
   "execution_count": 124,
   "metadata": {},
   "outputs": [
    {
     "data": {
      "text/html": [
       "<div>\n",
       "<style scoped>\n",
       "    .dataframe tbody tr th:only-of-type {\n",
       "        vertical-align: middle;\n",
       "    }\n",
       "\n",
       "    .dataframe tbody tr th {\n",
       "        vertical-align: top;\n",
       "    }\n",
       "\n",
       "    .dataframe thead th {\n",
       "        text-align: right;\n",
       "    }\n",
       "</style>\n",
       "<table border=\"1\" class=\"dataframe\">\n",
       "  <thead>\n",
       "    <tr style=\"text-align: right;\">\n",
       "      <th></th>\n",
       "      <th>actual</th>\n",
       "      <th>predicted</th>\n",
       "    </tr>\n",
       "  </thead>\n",
       "  <tbody>\n",
       "    <tr>\n",
       "      <th>0</th>\n",
       "      <td>16</td>\n",
       "      <td>16</td>\n",
       "    </tr>\n",
       "    <tr>\n",
       "      <th>1</th>\n",
       "      <td>1</td>\n",
       "      <td>1</td>\n",
       "    </tr>\n",
       "    <tr>\n",
       "      <th>2</th>\n",
       "      <td>38</td>\n",
       "      <td>38</td>\n",
       "    </tr>\n",
       "    <tr>\n",
       "      <th>3</th>\n",
       "      <td>33</td>\n",
       "      <td>33</td>\n",
       "    </tr>\n",
       "    <tr>\n",
       "      <th>4</th>\n",
       "      <td>11</td>\n",
       "      <td>11</td>\n",
       "    </tr>\n",
       "  </tbody>\n",
       "</table>\n",
       "</div>"
      ],
      "text/plain": [
       "   actual  predicted\n",
       "0      16         16\n",
       "1       1          1\n",
       "2      38         38\n",
       "3      33         33\n",
       "4      11         11"
      ]
     },
     "execution_count": 124,
     "metadata": {},
     "output_type": "execute_result"
    }
   ],
   "source": [
    "accuracy_df.head()"
   ]
  },
  {
   "cell_type": "code",
   "execution_count": 126,
   "metadata": {
    "colab": {
     "base_uri": "https://localhost:8080/",
     "height": 612
    },
    "id": "2QM1u6kFCA2m",
    "outputId": "c71995ee-a8f8-4801-f58a-c2e03206063f"
   },
   "outputs": [
    {
     "data": {
      "image/png": "[encoded data removed]",
      "text/plain": [
       "<Figure size 864x720 with 2 Axes>"
      ]
     },
     "metadata": {
      "needs_background": "light"
     },
     "output_type": "display_data"
    }
   ],
   "source": [
    "import seaborn as sns\n",
    "\n",
    "fig, ax = plt.subplots(figsize=(12, 10))\n",
    "sns.heatmap(pd.crosstab(accuracy_df['actual'], accuracy_df['predicted'], normalize='index'),\n",
    "            cmap='vlag',\n",
    "            ax=ax)\n",
    "\n",
    "ax.set_title('Heatmap of predictions of the SVM')\n",
    "plt.show()"
   ]
  },
  {
   "cell_type": "markdown",
   "metadata": {},
   "source": [
    "# Conclusion"
   ]
  },
  {
   "cell_type": "markdown",
   "metadata": {},
   "source": [
    "We have successfully trained a Neural Network Model and a SVM model, with different activation functions (we keep the linear SVM at the end). <br>\n",
    "The best model is the Neural Network with more than 92% accuracy on the test set, more efficient than the SVM model. <br>\n",
    "From the heatmaps above, we see that the SVM and Neural Network don't encounter issues on the same traffic signs. As we chose to keep the Neural Network, we'll comment only some of the results associated to this model.\n",
    "\n",
    "Concerning the traffic signs that are the most \"difficult\" to differentiate for the Neural network model we have : signs label 41, 40, 30 with the lowest accuracies corresponding to 40: 'Roundabout mandatory',41: 'End of no passing', 30: 'Beware of ice/snow'\n",
    "<br>\n",
    "\n",
    "Some traffic signs are sometimes misread by the algorithm, such as :\n",
    " 41: 'End of no passing' which is often predicted as 9: 'No passing'. This clearly could be a problem for an autonomous car as those signs indate their contrary.\n",
    "<br>\n",
    "To conclude, our algortihm shows nice patterns of traffic sign recognition, especially for pictures of such a bad quality, yet it is clearly not ready for an autonomous car !! :)"
   ]
  }
 ],
 "metadata": {
  "kernelspec": {
   "display_name": "traffic",
   "language": "python",
   "name": "traffic"
  },
  "language_info": {
   "codemirror_mode": {
    "name": "ipython",
    "version": 3
   },
   "file_extension": ".py",
   "mimetype": "text/x-python",
   "name": "python",
   "nbconvert_exporter": "python",
   "pygments_lexer": "ipython3",
   "version": "3.8.3"
  }
 },
 "nbformat": 4,
 "nbformat_minor": 4
}
